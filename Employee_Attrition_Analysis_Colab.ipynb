{
 "cells": [
  {
   "cell_type": "markdown",
   "id": "707245d4",
   "metadata": {},
   "source": [
    "# 🧠 Employee Attrition & Financial Impact Analysis\n",
    "\n",
    "This project aims to combine **classification and regression** techniques to predict:\n",
    "- Whether an employee will leave the company\n",
    "- Estimate their future salary if they stay\n",
    "- Calculate the expected financial loss if they leave\n",
    "\n",
    "---\n"
   ]
  },
  {
   "cell_type": "code",
   "execution_count": null,
   "id": "37e7f23b",
   "metadata": {},
   "outputs": [],
   "source": [
    "# 📦 Step 1: Import Libraries\n",
    "import pandas as pd\n",
    "import numpy as np\n",
    "from sklearn.model_selection import train_test_split, cross_val_score\n",
    "from sklearn.preprocessing import LabelEncoder, StandardScaler\n",
    "from sklearn.linear_model import LogisticRegression, Ridge, Lasso\n",
    "from sklearn.svm import SVR\n",
    "from sklearn.ensemble import RandomForestRegressor\n",
    "from sklearn.metrics import (\n",
    "    f1_score, roc_auc_score, precision_score, recall_score,\n",
    "    r2_score, mean_squared_error\n",
    ")\n",
    "import matplotlib.pyplot as plt\n",
    "import seaborn as sns\n"
   ]
  },
  {
   "cell_type": "markdown",
   "id": "cff7a075",
   "metadata": {},
   "source": [
    "## 📂 Step 2: Load Dataset\n",
    "Download the IBM HR Analytics Dataset from [Kaggle](https://www.kaggle.com/datasets/pavansubhasht/ibm-hr-analytics-attrition-dataset) and upload it below."
   ]
  },
  {
   "cell_type": "code",
   "execution_count": null,
   "id": "e3914aa5",
   "metadata": {},
   "outputs": [],
   "source": [
    "from google.colab import files\n",
    "uploaded = files.upload()  # Upload WA_Fn-UseC_-HR-Employee-Attrition.csv\n",
    "\n",
    "df = pd.read_csv(\"WA_Fn-UseC_-HR-Employee-Attrition.csv\")\n",
    "df.head()\n"
   ]
  },
  {
   "cell_type": "markdown",
   "id": "d5a95e3d",
   "metadata": {},
   "source": [
    "## 🔧 Step 3: Preprocessing"
   ]
  },
  {
   "cell_type": "code",
   "execution_count": null,
   "id": "f4a60b71",
   "metadata": {},
   "outputs": [],
   "source": [
    "label_encoders = {}\n",
    "for col in df.select_dtypes(include=['object']).columns:\n",
    "    le = LabelEncoder()\n",
    "    df[col] = le.fit_transform(df[col])\n",
    "    label_encoders[col] = le\n",
    "\n",
    "X = df.drop(['Attrition'], axis=1)\n",
    "y = df['Attrition']\n",
    "\n",
    "X_train, X_test, y_train, y_test = train_test_split(X, y, test_size=0.2, random_state=42)\n",
    "\n",
    "scaler = StandardScaler()\n",
    "X_train = scaler.fit_transform(X_train)\n",
    "X_test = scaler.transform(X_test)\n",
    "X_scaled = scaler.transform(X)\n"
   ]
  },
  {
   "cell_type": "markdown",
   "id": "a03c7051",
   "metadata": {},
   "source": [
    "## 🎯 Step 4: Classification - Predicting Employee Attrition"
   ]
  },
  {
   "cell_type": "code",
   "execution_count": null,
   "id": "8c7b937f",
   "metadata": {},
   "outputs": [],
   "source": [
    "clf = LogisticRegression()\n",
    "clf.fit(X_train, y_train)\n",
    "\n",
    "y_pred = clf.predict(X_test)\n",
    "y_proba = clf.predict_proba(X_test)[:, 1]\n",
    "\n",
    "print(\"F1 Score:\", f1_score(y_test, y_pred))\n",
    "print(\"AUC-ROC:\", roc_auc_score(y_test, y_proba))\n",
    "print(\"Precision:\", precision_score(y_test, y_pred))\n",
    "print(\"Recall:\", recall_score(y_test, y_pred))\n",
    "\n",
    "# Cross Validation\n",
    "cv_scores = cross_val_score(clf, X_scaled, y, cv=5, scoring='f1')\n",
    "print(\"Cross-Validation F1 Score:\", np.mean(cv_scores))\n"
   ]
  },
  {
   "cell_type": "markdown",
   "id": "19aa2425",
   "metadata": {},
   "source": [
    "## 💸 Step 5: Simulating Future Salary"
   ]
  },
  {
   "cell_type": "code",
   "execution_count": null,
   "id": "29ee7dd0",
   "metadata": {},
   "outputs": [],
   "source": [
    "df['Increment'] = df['PerformanceRating'].apply(lambda x: 1.10 if x == 4 else 1.05)\n",
    "df['FutureSalary'] = df['MonthlyIncome'] * df['Increment']\n",
    "df[['PerformanceRating', 'MonthlyIncome', 'FutureSalary']].head()\n"
   ]
  },
  {
   "cell_type": "markdown",
   "id": "3853e898",
   "metadata": {},
   "source": [
    "## 🧮 Step 6: Identify Likely-to-Stay Employees"
   ]
  },
  {
   "cell_type": "code",
   "execution_count": null,
   "id": "86e75d23",
   "metadata": {},
   "outputs": [],
   "source": [
    "P_leave = clf.predict_proba(X_scaled)[:, 1]\n",
    "P_stay = 1 - P_leave\n",
    "likely_to_stay_idx = np.where(P_stay > 0.6)[0]\n",
    "\n",
    "X_stay = X.iloc[likely_to_stay_idx]\n",
    "y_salary = df.loc[likely_to_stay_idx, 'FutureSalary']\n",
    "\n",
    "X_train_reg, X_test_reg, y_train_reg, y_test_reg = train_test_split(\n",
    "    X_stay, y_salary, test_size=0.2, random_state=42\n",
    ")\n"
   ]
  },
  {
   "cell_type": "markdown",
   "id": "e04b5f27",
   "metadata": {},
   "source": [
    "## 📈 Step 7: Regression - Predicting Future Salaries"
   ]
  },
  {
   "cell_type": "markdown",
   "id": "08925e22",
   "metadata": {},
   "source": []
  },
  {
   "cell_type": "code",
   "execution_count": null,
   "id": "20d05521",
   "metadata": {},
   "outputs": [],
   "source": [
    "models = {\n",
    "    \"Random Forest\": RandomForestRegressor(),\n",
    "    \"Ridge\": Ridge(),\n",
    "    \"Lasso\": Lasso(),\n",
    "    \"SVR\": SVR()\n",
    "}\n",
    "\n",
    "for name, model in models.items():\n",
    "    model.fit(X_train_reg, y_train_reg)\n",
    "    preds = model.predict(X_test_reg)\n",
    "    r2 = r2_score(y_test_reg, preds)\n",
    "    rmse = np.sqrt(mean_squared_error(y_test_reg, preds))\n",
    "    print(f\"{name} → R2 Score: {r2:.6f} | RMSE: {rmse:.2f}\")\n"
   ]
  },
  {
   "cell_type": "markdown",
   "id": "a5f5d858",
   "metadata": {},
   "source": [
    "## 📉 Step 8: Estimate Financial Loss Due to Attrition"
   ]
  },
  {
   "cell_type": "code",
   "execution_count": null,
   "id": "c19a379c",
   "metadata": {},
   "outputs": [],
   "source": [
    "expected_loss = P_leave * df['FutureSalary']\n",
    "df['ExpectedLoss'] = expected_loss\n",
    "total_expected_loss = df['ExpectedLoss'].sum()\n",
    "print(\"💰 Total Expected Financial Loss: $\", round(total_expected_loss, 2))\n"
   ]
  },
  {
   "cell_type": "code",
   "execution_count": null,
   "id": "92e6b7ee",
   "metadata": {},
   "outputs": [],
   "source": [
    "plt.figure(figsize=(10, 5))\n",
    "sns.histplot(df['ExpectedLoss'], bins=30, kde=True, color='red')\n",
    "plt.title(\"Distribution of Expected Financial Loss\")\n",
    "plt.xlabel(\"Expected Loss ($)\")\n",
    "plt.ylabel(\"Number of Employees\")\n",
    "plt.show()"
   ]
  },
  {
   "cell_type": "markdown",
   "id": "5d469116",
   "metadata": {},
   "source": [
    "### 📉 Expected Financial Loss Distribution\n",
    "Financial risk per employee based on attrition probability."
   ]
  },
  {
   "cell_type": "code",
   "execution_count": null,
   "id": "3ac35705",
   "metadata": {},
   "outputs": [],
   "source": [
    "plt.figure(figsize=(10, 5))\n",
    "sns.histplot(df['MonthlyIncome'], label='Original Salary', kde=True, color='blue')\n",
    "sns.histplot(df['FutureSalary'], label='Simulated Future Salary', kde=True, color='green')\n",
    "plt.title(\"Salary Before vs Future Simulation\")\n",
    "plt.legend()\n",
    "plt.show()"
   ]
  },
  {
   "cell_type": "markdown",
   "id": "c9b56424",
   "metadata": {},
   "source": [
    "### 💸 Salary Distribution: Before vs After Simulation\n",
    "Visual comparison of current and future salaries."
   ]
  },
  {
   "cell_type": "code",
   "execution_count": null,
   "id": "c4233f7d",
   "metadata": {},
   "outputs": [],
   "source": [
    "from sklearn.metrics import roc_curve, auc\n",
    "\n",
    "fpr, tpr, _ = roc_curve(y_test, y_proba)\n",
    "roc_auc = auc(fpr, tpr)\n",
    "\n",
    "plt.figure()\n",
    "plt.plot(fpr, tpr, label='Logistic Regression (AUC = %0.2f)' % roc_auc)\n",
    "plt.plot([0, 1], [0, 1], 'k--')\n",
    "plt.xlabel('False Positive Rate')\n",
    "plt.ylabel('True Positive Rate')\n",
    "plt.title('Receiver Operating Characteristic Curve')\n",
    "plt.legend()\n",
    "plt.grid(True)\n",
    "plt.show()"
   ]
  },
  {
   "cell_type": "markdown",
   "id": "eae88495",
   "metadata": {},
   "source": [
    "### 📌 Feature Importance from Random Forest\n",
    "Which features most impact salary predictions?"
   ]
  },
  {
   "cell_type": "code",
   "execution_count": null,
   "id": "41a0e8e3",
   "metadata": {},
   "outputs": [],
   "source": [
    "sns.countplot(x='Attrition', data=df)\n",
    "plt.title(\"Employee Attrition Distribution\")\n",
    "plt.show()"
   ]
  },
  {
   "cell_type": "markdown",
   "id": "80f6d4c7",
   "metadata": {},
   "source": [
    "### 📊 Attrition Distribution\n",
    "Understanding how many employees are leaving vs staying."
   ]
  },
  {
   "cell_type": "markdown",
   "id": "78953d52",
   "metadata": {},
   "source": [
    "## ✅ Conclusion\n",
    "\n",
    "This project combined classification and regression to analyze employee attrition and salary impact.\n",
    "- Classification helped predict who might leave.\n",
    "- Regression estimated the financial consequence.\n",
    "- Combined, this allows better HR planning."
   ]
  }
 ],
 "metadata": {
  "language_info": {
   "name": "python"
  }
 },
 "nbformat": 4,
 "nbformat_minor": 5
}
